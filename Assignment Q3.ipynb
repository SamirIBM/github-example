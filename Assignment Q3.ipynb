{
 "cells": [
  {
   "cell_type": "code",
   "execution_count": 11,
   "metadata": {},
   "outputs": [
    {
     "name": "stdout",
     "output_type": "stream",
     "text": [
      "Requirement already satisfied: html5lib in /home/jupyterlab/conda/envs/python/lib/python3.6/site-packages (0.9999999)\n",
      "Requirement already satisfied: six in /home/jupyterlab/conda/envs/python/lib/python3.6/site-packages (from html5lib) (1.14.0)\n",
      "Requirement already satisfied: requests in /home/jupyterlab/conda/envs/python/lib/python3.6/site-packages (2.22.0)\n",
      "Requirement already satisfied: urllib3!=1.25.0,!=1.25.1,<1.26,>=1.21.1 in /home/jupyterlab/conda/envs/python/lib/python3.6/site-packages (from requests) (1.25.8)\n",
      "Requirement already satisfied: chardet<3.1.0,>=3.0.2 in /home/jupyterlab/conda/envs/python/lib/python3.6/site-packages (from requests) (3.0.4)\n",
      "Requirement already satisfied: idna<2.9,>=2.5 in /home/jupyterlab/conda/envs/python/lib/python3.6/site-packages (from requests) (2.8)\n",
      "Requirement already satisfied: certifi>=2017.4.17 in /home/jupyterlab/conda/envs/python/lib/python3.6/site-packages (from requests) (2019.11.28)\n",
      "Requirement already satisfied: BeautifulSoup4 in /home/jupyterlab/conda/envs/python/lib/python3.6/site-packages (4.9.0)\n",
      "Requirement already satisfied: soupsieve>1.2 in /home/jupyterlab/conda/envs/python/lib/python3.6/site-packages (from BeautifulSoup4) (2.0)\n",
      "<pandas.plotting._core.PlotAccessor object at 0x7f1a940fbf28>\n"
     ]
    }
   ],
   "source": [
    "#!pip install lxml\n",
    "!pip install html5lib # either lxml or html5lib\n",
    "!pip install requests\n",
    "!pip install BeautifulSoup4\n",
    "from bs4 import BeautifulSoup\n",
    "import requests\n",
    "\n",
    "import pandas as pd\n",
    "import numpy as np\n",
    "import csv\n",
    "\n",
    "\n",
    "csv_file=open('Data_scrape.csv', 'w')\n",
    "\n",
    "csv_writer=csv.writer(csv_file)\n",
    "\n",
    "#Reading the source in the html format\n",
    "\n",
    "source=requests.get('https://en.wikipedia.org/wiki/List_of_postal_codes_of_Canada:_M').text\n",
    "soup=BeautifulSoup(source, 'html5lib')\n",
    "\n",
    "\n",
    "#Reading the table\n",
    "\n",
    "gdp_table = soup.find(\"table\", attrs={\"class\": \"wikitable\"})\n",
    "gdp_table_data = gdp_table.tbody.find_all(\"tr\")  # contains 2 rows\n",
    "\n",
    "#print(gdp_table_data)\n",
    "\n",
    "# Get all the headings of Lists and writing into a csv file\n",
    "\n",
    "headings = []\n",
    "i=0\n",
    "for i in range(1,181):\n",
    "        for td in gdp_table_data[i].find_all(\"td\"):\n",
    "        # remove any newlines and extra spaces from left and right\n",
    "            headings.append(td.text.replace('\\n', ' ').strip())\n",
    "        #print(headings)\n",
    "        csv_writer.writerow(headings)\n",
    "        headings=[]\n",
    "        #print(headings)\n",
    "#csv_writer.writerow(\\n)\n",
    "csv_file.close()\n",
    "\n",
    "df=pd.read_csv('Data_scrape.csv')\n",
    "\n",
    "#Putting the headings into the csv file\n",
    "\n",
    "df.columns=['Postal Code','Borough','Neighborhood']\n",
    "\n",
    "#Removing all the rows having Borough as \"Not assigned\"\n",
    "df = df[df.Borough != 'Not assigned']\n",
    "#df=df[df.Borough == 'Not assigned']\n",
    "df.head(10)\n",
    "df=df.plot\n",
    "print(df)\n"
   ]
  },
  {
   "cell_type": "code",
   "execution_count": null,
   "metadata": {},
   "outputs": [],
   "source": []
  }
 ],
 "metadata": {
  "kernelspec": {
   "display_name": "Python",
   "language": "python",
   "name": "conda-env-python-py"
  },
  "language_info": {
   "codemirror_mode": {
    "name": "ipython",
    "version": 3
   },
   "file_extension": ".py",
   "mimetype": "text/x-python",
   "name": "python",
   "nbconvert_exporter": "python",
   "pygments_lexer": "ipython3",
   "version": "3.6.7"
  }
 },
 "nbformat": 4,
 "nbformat_minor": 4
}
